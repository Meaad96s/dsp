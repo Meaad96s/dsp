{
 "cells": [
  {
   "cell_type": "code",
   "execution_count": 1,
   "metadata": {},
   "outputs": [
    {
     "name": "stdout",
     "output_type": "stream",
     "text": [
      "Python Version: 3.7.3 (default, Mar 27 2019, 16:54:48) \n",
      "[Clang 4.0.1 (tags/RELEASE_401/final)] \n",
      "\n"
     ]
    }
   ],
   "source": [
    "import sys\n",
    "print(\"Python Version:\", sys.version, '\\n')"
   ]
  },
  {
   "cell_type": "markdown",
   "metadata": {},
   "source": [
    "# Pickle: Saving Objects for Later"
   ]
  },
  {
   "cell_type": "markdown",
   "metadata": {},
   "source": [
    "Often in data science, we'll create some model or some version of our data and want to use it later. We have many options - we can save the coefficients, or save the data to csv, or...\n",
    "\n",
    "Actually, we don't have that many options. \n",
    "\n",
    "One way to overcome that is to save the python object to a file as a serialized object. That means we convert the entire object to a bunch of bytes, save those bytes into a file, and then have the ability to unpack those bytes back into their original format later. \n",
    "\n",
    "This is done by a module called `pickle`. Let's see it in action."
   ]
  },
  {
   "cell_type": "code",
   "execution_count": 2,
   "metadata": {},
   "outputs": [],
   "source": [
    "import pickle\n",
    "import random\n",
    "\n",
    "lots_of_noise = {\n",
    "    'CA': [random.randint(0,65) for _ in range(100)],\n",
    "    'IL': [random.randint(0,65) for _ in range(50)],\n",
    "    'NY': [random.randint(0,65) for _ in range(90)],\n",
    "    'WA': [random.randint(0,65) for _ in range(33)]\n",
    "}"
   ]
  },
  {
   "cell_type": "code",
   "execution_count": 3,
   "metadata": {},
   "outputs": [
    {
     "name": "stdout",
     "output_type": "stream",
     "text": [
      "{'CA': [48, 13, 21, 34, 30, 9, 0, 47, 59, 23, 12, 6, 5, 63, 22, 10, 13, 46, 54, 6, 43, 28, 17, 8, 53, 58, 58, 26, 37, 26, 7, 5, 44, 5, 7, 64, 58, 8, 63, 63, 17, 16, 13, 62, 10, 3, 32, 53, 49, 51, 44, 62, 25, 50, 27, 0, 13, 24, 10, 52, 20, 45, 49, 31, 4, 35, 12, 33, 56, 0, 8, 34, 6, 13, 31, 37, 10, 61, 15, 17, 12, 26, 42, 38, 20, 27, 14, 39, 43, 56, 46, 63, 58, 27, 55, 55, 54, 28, 42, 54], 'IL': [20, 50, 2, 47, 20, 54, 51, 41, 2, 57, 37, 21, 26, 2, 18, 20, 16, 17, 0, 27, 34, 5, 62, 17, 29, 63, 50, 47, 62, 41, 49, 32, 28, 11, 61, 56, 17, 21, 37, 52, 4, 40, 24, 49, 2, 20, 64, 56, 7, 45], 'NY': [16, 21, 49, 0, 45, 18, 65, 34, 5, 19, 64, 28, 53, 34, 26, 7, 19, 61, 32, 40, 13, 24, 43, 36, 54, 27, 0, 6, 6, 49, 8, 40, 45, 17, 3, 8, 44, 21, 25, 30, 25, 37, 37, 56, 6, 9, 32, 58, 11, 10, 28, 38, 58, 50, 22, 24, 58, 55, 14, 28, 58, 58, 64, 5, 54, 39, 39, 40, 7, 5, 46, 40, 46, 57, 56, 2, 8, 23, 62, 41, 29, 26, 42, 50, 10, 65, 56, 44, 54, 40], 'WA': [27, 63, 61, 37, 34, 5, 25, 51, 38, 31, 22, 33, 7, 5, 51, 2, 19, 31, 7, 59, 43, 58, 40, 44, 59, 38, 5, 20, 11, 40, 46, 59, 23]}\n"
     ]
    }
   ],
   "source": [
    "print(lots_of_noise)"
   ]
  },
  {
   "cell_type": "code",
   "execution_count": 4,
   "metadata": {},
   "outputs": [
    {
     "name": "stdout",
     "output_type": "stream",
     "text": [
      "Variable        Type      Data/Info\n",
      "-----------------------------------\n",
      "lots_of_noise   dict      n=4\n",
      "pickle          module    <module 'pickle' from '/a<...>lib/python3.7/pickle.py'>\n",
      "random          module    <module 'random' from '/a<...>lib/python3.7/random.py'>\n",
      "sys             module    <module 'sys' (built-in)>\n"
     ]
    }
   ],
   "source": [
    "whos"
   ]
  },
  {
   "cell_type": "markdown",
   "metadata": {},
   "source": [
    "We can see in this `whos` command that the object `lots_of_noise` exists and is a `dict` with 4 keys. Nice. Now let's look at our file system and verify that there isn't a file called `noise.pickle`."
   ]
  },
  {
   "cell_type": "code",
   "execution_count": 5,
   "metadata": {},
   "outputs": [
    {
     "name": "stdout",
     "output_type": "stream",
     "text": [
      "advanced_python_datatypes.ipynb       my_dataframe.pickle\r\n",
      "deep_and_shallow_copy.ipynb           noise.pickle\r\n",
      "\u001b[34mdeep_copy_demo\u001b[m\u001b[m                        pickle_saving_objects_for_later.ipynb\r\n",
      "instructor_guide_week1_day4.md        readme.md\r\n"
     ]
    }
   ],
   "source": [
    "!ls"
   ]
  },
  {
   "cell_type": "markdown",
   "metadata": {},
   "source": [
    "Okay, now we're ready to create a file and write the bytes to it. To do this with `pickle`, we use python's read-write streamer `open` and create a writable-binary (`wb`) file. We'll then use `pickle.dump` to put an object into that file as a string of bytes."
   ]
  },
  {
   "cell_type": "code",
   "execution_count": 6,
   "metadata": {},
   "outputs": [],
   "source": [
    "with open('noise.pickle', 'wb') as to_write:\n",
    "    pickle.dump(lots_of_noise, to_write)"
   ]
  },
  {
   "cell_type": "code",
   "execution_count": 7,
   "metadata": {},
   "outputs": [
    {
     "name": "stdout",
     "output_type": "stream",
     "text": [
      "advanced_python_datatypes.ipynb       my_dataframe.pickle\r\n",
      "deep_and_shallow_copy.ipynb           noise.pickle\r\n",
      "\u001b[34mdeep_copy_demo\u001b[m\u001b[m                        pickle_saving_objects_for_later.ipynb\r\n",
      "instructor_guide_week1_day4.md        readme.md\r\n"
     ]
    }
   ],
   "source": [
    "!ls"
   ]
  },
  {
   "cell_type": "markdown",
   "metadata": {},
   "source": [
    "Now let's delete `lots_of_noise` and prove to ourselves it doesn't exist in Python's memory anymore."
   ]
  },
  {
   "cell_type": "code",
   "execution_count": 8,
   "metadata": {},
   "outputs": [],
   "source": [
    "del lots_of_noise"
   ]
  },
  {
   "cell_type": "code",
   "execution_count": 9,
   "metadata": {},
   "outputs": [
    {
     "name": "stdout",
     "output_type": "stream",
     "text": [
      "Variable   Type              Data/Info\n",
      "--------------------------------------\n",
      "pickle     module            <module 'pickle' from '/a<...>lib/python3.7/pickle.py'>\n",
      "random     module            <module 'random' from '/a<...>lib/python3.7/random.py'>\n",
      "sys        module            <module 'sys' (built-in)>\n",
      "to_write   BufferedWriter    <_io.BufferedWriter name='noise.pickle'>\n"
     ]
    }
   ],
   "source": [
    "whos"
   ]
  },
  {
   "cell_type": "code",
   "execution_count": 10,
   "metadata": {},
   "outputs": [
    {
     "ename": "NameError",
     "evalue": "name 'lots_of_noise' is not defined",
     "output_type": "error",
     "traceback": [
      "\u001b[0;31m---------------------------------------------------------------------------\u001b[0m",
      "\u001b[0;31mNameError\u001b[0m                                 Traceback (most recent call last)",
      "\u001b[0;32m<ipython-input-10-69f22b4d5ca8>\u001b[0m in \u001b[0;36m<module>\u001b[0;34m\u001b[0m\n\u001b[0;32m----> 1\u001b[0;31m \u001b[0mprint\u001b[0m\u001b[0;34m(\u001b[0m\u001b[0mlots_of_noise\u001b[0m\u001b[0;34m)\u001b[0m\u001b[0;34m\u001b[0m\u001b[0;34m\u001b[0m\u001b[0m\n\u001b[0m",
      "\u001b[0;31mNameError\u001b[0m: name 'lots_of_noise' is not defined"
     ]
    }
   ],
   "source": [
    "print(lots_of_noise)"
   ]
  },
  {
   "cell_type": "markdown",
   "metadata": {},
   "source": [
    "Lovely. It's dead forever. Or is it?\n",
    "\n",
    "Let's open that `noise.pickle` file with read-binary (`rb`) mode. Then we'll ask pickle to retrieve the file with `pickle.load` and store it back in a variable."
   ]
  },
  {
   "cell_type": "code",
   "execution_count": 11,
   "metadata": {},
   "outputs": [],
   "source": [
    "with open('noise.pickle','rb') as read_file:\n",
    "    new_noise = pickle.load(read_file)"
   ]
  },
  {
   "cell_type": "code",
   "execution_count": 12,
   "metadata": {},
   "outputs": [
    {
     "name": "stdout",
     "output_type": "stream",
     "text": [
      "{'CA': [48, 13, 21, 34, 30, 9, 0, 47, 59, 23, 12, 6, 5, 63, 22, 10, 13, 46, 54, 6, 43, 28, 17, 8, 53, 58, 58, 26, 37, 26, 7, 5, 44, 5, 7, 64, 58, 8, 63, 63, 17, 16, 13, 62, 10, 3, 32, 53, 49, 51, 44, 62, 25, 50, 27, 0, 13, 24, 10, 52, 20, 45, 49, 31, 4, 35, 12, 33, 56, 0, 8, 34, 6, 13, 31, 37, 10, 61, 15, 17, 12, 26, 42, 38, 20, 27, 14, 39, 43, 56, 46, 63, 58, 27, 55, 55, 54, 28, 42, 54], 'IL': [20, 50, 2, 47, 20, 54, 51, 41, 2, 57, 37, 21, 26, 2, 18, 20, 16, 17, 0, 27, 34, 5, 62, 17, 29, 63, 50, 47, 62, 41, 49, 32, 28, 11, 61, 56, 17, 21, 37, 52, 4, 40, 24, 49, 2, 20, 64, 56, 7, 45], 'NY': [16, 21, 49, 0, 45, 18, 65, 34, 5, 19, 64, 28, 53, 34, 26, 7, 19, 61, 32, 40, 13, 24, 43, 36, 54, 27, 0, 6, 6, 49, 8, 40, 45, 17, 3, 8, 44, 21, 25, 30, 25, 37, 37, 56, 6, 9, 32, 58, 11, 10, 28, 38, 58, 50, 22, 24, 58, 55, 14, 28, 58, 58, 64, 5, 54, 39, 39, 40, 7, 5, 46, 40, 46, 57, 56, 2, 8, 23, 62, 41, 29, 26, 42, 50, 10, 65, 56, 44, 54, 40], 'WA': [27, 63, 61, 37, 34, 5, 25, 51, 38, 31, 22, 33, 7, 5, 51, 2, 19, 31, 7, 59, 43, 58, 40, 44, 59, 38, 5, 20, 11, 40, 46, 59, 23]}\n"
     ]
    }
   ],
   "source": [
    "print(new_noise)"
   ]
  },
  {
   "cell_type": "code",
   "execution_count": 13,
   "metadata": {},
   "outputs": [
    {
     "name": "stdout",
     "output_type": "stream",
     "text": [
      "Variable    Type              Data/Info\n",
      "---------------------------------------\n",
      "new_noise   dict              n=4\n",
      "pickle      module            <module 'pickle' from '/a<...>lib/python3.7/pickle.py'>\n",
      "random      module            <module 'random' from '/a<...>lib/python3.7/random.py'>\n",
      "read_file   BufferedReader    <_io.BufferedReader name='noise.pickle'>\n",
      "sys         module            <module 'sys' (built-in)>\n",
      "to_write    BufferedWriter    <_io.BufferedWriter name='noise.pickle'>\n"
     ]
    }
   ],
   "source": [
    "whos"
   ]
  },
  {
   "cell_type": "markdown",
   "metadata": {},
   "source": [
    "Random noise lives! We retrieved the entire structure from file. Nice."
   ]
  },
  {
   "cell_type": "markdown",
   "metadata": {},
   "source": [
    "### Okay, but I don't use dictionaries... I use pandas."
   ]
  },
  {
   "cell_type": "code",
   "execution_count": 14,
   "metadata": {},
   "outputs": [
    {
     "data": {
      "text/html": [
       "<div>\n",
       "<style scoped>\n",
       "    .dataframe tbody tr th:only-of-type {\n",
       "        vertical-align: middle;\n",
       "    }\n",
       "\n",
       "    .dataframe tbody tr th {\n",
       "        vertical-align: top;\n",
       "    }\n",
       "\n",
       "    .dataframe thead th {\n",
       "        text-align: right;\n",
       "    }\n",
       "</style>\n",
       "<table border=\"1\" class=\"dataframe\">\n",
       "  <thead>\n",
       "    <tr style=\"text-align: right;\">\n",
       "      <th></th>\n",
       "      <th>Yay</th>\n",
       "      <th>specific</th>\n",
       "      <th>column</th>\n",
       "      <th>names</th>\n",
       "    </tr>\n",
       "  </thead>\n",
       "  <tbody>\n",
       "    <tr>\n",
       "      <th>0</th>\n",
       "      <td>8.402793</td>\n",
       "      <td>4.993342</td>\n",
       "      <td>8.412881</td>\n",
       "      <td>-9.880894</td>\n",
       "    </tr>\n",
       "    <tr>\n",
       "      <th>1</th>\n",
       "      <td>-5.394001</td>\n",
       "      <td>-4.748821</td>\n",
       "      <td>7.016411</td>\n",
       "      <td>5.243131</td>\n",
       "    </tr>\n",
       "    <tr>\n",
       "      <th>2</th>\n",
       "      <td>7.421135</td>\n",
       "      <td>-4.093232</td>\n",
       "      <td>-4.622405</td>\n",
       "      <td>0.261971</td>\n",
       "    </tr>\n",
       "    <tr>\n",
       "      <th>3</th>\n",
       "      <td>1.659789</td>\n",
       "      <td>1.431564</td>\n",
       "      <td>-7.585267</td>\n",
       "      <td>-7.480446</td>\n",
       "    </tr>\n",
       "    <tr>\n",
       "      <th>4</th>\n",
       "      <td>6.068205</td>\n",
       "      <td>-9.953700</td>\n",
       "      <td>7.242933</td>\n",
       "      <td>4.601274</td>\n",
       "    </tr>\n",
       "  </tbody>\n",
       "</table>\n",
       "</div>"
      ],
      "text/plain": [
       "        Yay  specific    column     names\n",
       "0  8.402793  4.993342  8.412881 -9.880894\n",
       "1 -5.394001 -4.748821  7.016411  5.243131\n",
       "2  7.421135 -4.093232 -4.622405  0.261971\n",
       "3  1.659789  1.431564 -7.585267 -7.480446\n",
       "4  6.068205 -9.953700  7.242933  4.601274"
      ]
     },
     "execution_count": 14,
     "metadata": {},
     "output_type": "execute_result"
    }
   ],
   "source": [
    "import pandas as pd\n",
    "import numpy as np\n",
    "\n",
    "df = pd.DataFrame(np.random.uniform(-10,10, size=(100,4)), columns=['Yay','specific','column','names'])\n",
    "df.head(5)"
   ]
  },
  {
   "cell_type": "code",
   "execution_count": 15,
   "metadata": {},
   "outputs": [],
   "source": [
    "with open('my_dataframe.pickle', 'wb') as to_write:\n",
    "    pickle.dump(df, to_write)"
   ]
  },
  {
   "cell_type": "code",
   "execution_count": 16,
   "metadata": {},
   "outputs": [
    {
     "ename": "NameError",
     "evalue": "name 'df' is not defined",
     "output_type": "error",
     "traceback": [
      "\u001b[0;31m---------------------------------------------------------------------------\u001b[0m",
      "\u001b[0;31mNameError\u001b[0m                                 Traceback (most recent call last)",
      "\u001b[0;32m<ipython-input-16-3975f6306adf>\u001b[0m in \u001b[0;36m<module>\u001b[0;34m\u001b[0m\n\u001b[1;32m      1\u001b[0m \u001b[0;32mdel\u001b[0m \u001b[0mdf\u001b[0m\u001b[0;34m\u001b[0m\u001b[0;34m\u001b[0m\u001b[0m\n\u001b[1;32m      2\u001b[0m \u001b[0;34m\u001b[0m\u001b[0m\n\u001b[0;32m----> 3\u001b[0;31m \u001b[0mdf\u001b[0m\u001b[0;34m.\u001b[0m\u001b[0mhead\u001b[0m\u001b[0;34m(\u001b[0m\u001b[0;36m5\u001b[0m\u001b[0;34m)\u001b[0m\u001b[0;34m\u001b[0m\u001b[0;34m\u001b[0m\u001b[0m\n\u001b[0m",
      "\u001b[0;31mNameError\u001b[0m: name 'df' is not defined"
     ]
    }
   ],
   "source": [
    "del df\n",
    "\n",
    "df.head(5)"
   ]
  },
  {
   "cell_type": "code",
   "execution_count": 17,
   "metadata": {},
   "outputs": [
    {
     "data": {
      "text/html": [
       "<div>\n",
       "<style scoped>\n",
       "    .dataframe tbody tr th:only-of-type {\n",
       "        vertical-align: middle;\n",
       "    }\n",
       "\n",
       "    .dataframe tbody tr th {\n",
       "        vertical-align: top;\n",
       "    }\n",
       "\n",
       "    .dataframe thead th {\n",
       "        text-align: right;\n",
       "    }\n",
       "</style>\n",
       "<table border=\"1\" class=\"dataframe\">\n",
       "  <thead>\n",
       "    <tr style=\"text-align: right;\">\n",
       "      <th></th>\n",
       "      <th>Yay</th>\n",
       "      <th>specific</th>\n",
       "      <th>column</th>\n",
       "      <th>names</th>\n",
       "    </tr>\n",
       "  </thead>\n",
       "  <tbody>\n",
       "    <tr>\n",
       "      <th>0</th>\n",
       "      <td>8.402793</td>\n",
       "      <td>4.993342</td>\n",
       "      <td>8.412881</td>\n",
       "      <td>-9.880894</td>\n",
       "    </tr>\n",
       "    <tr>\n",
       "      <th>1</th>\n",
       "      <td>-5.394001</td>\n",
       "      <td>-4.748821</td>\n",
       "      <td>7.016411</td>\n",
       "      <td>5.243131</td>\n",
       "    </tr>\n",
       "    <tr>\n",
       "      <th>2</th>\n",
       "      <td>7.421135</td>\n",
       "      <td>-4.093232</td>\n",
       "      <td>-4.622405</td>\n",
       "      <td>0.261971</td>\n",
       "    </tr>\n",
       "    <tr>\n",
       "      <th>3</th>\n",
       "      <td>1.659789</td>\n",
       "      <td>1.431564</td>\n",
       "      <td>-7.585267</td>\n",
       "      <td>-7.480446</td>\n",
       "    </tr>\n",
       "    <tr>\n",
       "      <th>4</th>\n",
       "      <td>6.068205</td>\n",
       "      <td>-9.953700</td>\n",
       "      <td>7.242933</td>\n",
       "      <td>4.601274</td>\n",
       "    </tr>\n",
       "  </tbody>\n",
       "</table>\n",
       "</div>"
      ],
      "text/plain": [
       "        Yay  specific    column     names\n",
       "0  8.402793  4.993342  8.412881 -9.880894\n",
       "1 -5.394001 -4.748821  7.016411  5.243131\n",
       "2  7.421135 -4.093232 -4.622405  0.261971\n",
       "3  1.659789  1.431564 -7.585267 -7.480446\n",
       "4  6.068205 -9.953700  7.242933  4.601274"
      ]
     },
     "execution_count": 17,
     "metadata": {},
     "output_type": "execute_result"
    }
   ],
   "source": [
    "with open('my_dataframe.pickle','rb') as read_file:\n",
    "    new_df = pickle.load(read_file)\n",
    "    \n",
    "new_df.head(5)"
   ]
  },
  {
   "cell_type": "markdown",
   "metadata": {},
   "source": [
    "Pickle is a great tool. One recommended way of using it is to make it an end point of every step in your process. Example:\n",
    "\n",
    "* I got my data! Nice. Pickle it and stop your \"getting the data\" notebook.\n",
    "* Load your data from pickle. Clean it. Save your clean data to a new pickle.\n",
    "* Load your cleaned_data pickle. Do analysis and visualize it.\n",
    "\n",
    "This can provide natural \"pick-up-where-I-left-off-but-before-I-broke-my-data\" points. It's a great way to control the flow of your data.\n",
    "\n",
    "#### Resources\n",
    "\n",
    "https://docs.python.org/3.7/library/pickle.html"
   ]
  },
  {
   "cell_type": "code",
   "execution_count": null,
   "metadata": {},
   "outputs": [],
   "source": []
  }
 ],
 "metadata": {
  "kernelspec": {
   "display_name": "Python 3",
   "language": "python",
   "name": "python3"
  },
  "language_info": {
   "codemirror_mode": {
    "name": "ipython",
    "version": 3
   },
   "file_extension": ".py",
   "mimetype": "text/x-python",
   "name": "python",
   "nbconvert_exporter": "python",
   "pygments_lexer": "ipython3",
   "version": "3.7.3"
  }
 },
 "nbformat": 4,
 "nbformat_minor": 1
}
